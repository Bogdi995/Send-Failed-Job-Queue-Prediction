{
 "cells": [
  {
   "cell_type": "code",
   "execution_count": 1,
   "id": "e3d372e2-0ff5-4656-8775-b03757ed5d3b",
   "metadata": {},
   "outputs": [],
   "source": [
    "import os\n",
    "import sys\n",
    "import spacy\n",
    "import tensorflow as tf\n",
    "from typing import Callable\n",
    "from sklearn.preprocessing import LabelEncoder\n",
    "from tensorflow.keras.layers import TextVectorization\n",
    "\n",
    "sys.path.append('..\\\\src')\n",
    "\n",
    "from data_loading import DataLoading\n",
    "from helper import Helper"
   ]
  },
  {
   "cell_type": "markdown",
   "id": "07986c7d-0314-4009-8fa2-e08a5f0f0e46",
   "metadata": {},
   "source": [
    "### Data Loading"
   ]
  },
  {
   "cell_type": "code",
   "execution_count": 2,
   "id": "d8a37fde-c8c2-4868-a70b-efcf4821a35c",
   "metadata": {},
   "outputs": [],
   "source": [
    "def load_data(config: dict[str, any], script_dir: str) -> tuple:\n",
    "    \"\"\"\n",
    "    Load various data needed for prediction.\n",
    "\n",
    "    Args:\n",
    "        config (dict[str, any]): Configuration parameters.\n",
    "        parent_script_dir: str: The script directory path.\n",
    "\n",
    "    Returns:\n",
    "        tuple: Tuple containing loaded data.\n",
    "    \"\"\"\n",
    "    intents_path: str = os.path.join(script_dir, config['paths']['intents'])\n",
    "    trained_nlp_path: str = os.path.join(script_dir, config['paths']['nlp'])\n",
    "    contractions_path: str = os.path.join(script_dir, config['paths']['contractions'])\n",
    "    preprocessing_functions_path: str = os.path.join(script_dir, config['paths']['preprocessing_functions'])\n",
    "    job_queue_vectorizer_path: str = os.path.join(script_dir, config['paths']['vectorizer'])\n",
    "    job_queue_label_encoder_path: str = os.path.join(script_dir, config['paths']['label_encoder'])\n",
    "    job_queue_model_path: str = os.path.join(script_dir, config['paths']['model'])\n",
    "    \n",
    "    intents: dict[str, list[str]] = DataLoading.load_intents(intents_path)\n",
    "    trained_nlp: spacy.Language = DataLoading.load_trained_nlp(trained_nlp_path)\n",
    "    contractions: dict[str, str] = DataLoading.load_contractions(contractions_path)\n",
    "    preprocessing_functions: dict[str, Callable[[str], str]] = DataLoading.load_preprocessing_functions(preprocessing_functions_path)\n",
    "    job_queue_vectorizer: dict[dict[str, object], list[str]] = DataLoading.load_job_queue_vectorizer(job_queue_vectorizer_path)\n",
    "    job_queue_label_encoder: LabelEncoder = DataLoading.load_label_encoder(job_queue_label_encoder_path)\n",
    "    job_queue_model: tf.keras.models.Sequential = DataLoading.load_keras_model(job_queue_model_path)\n",
    "\n",
    "    return intents, trained_nlp, contractions, preprocessing_functions, job_queue_vectorizer, job_queue_label_encoder, job_queue_model"
   ]
  },
  {
   "cell_type": "code",
   "execution_count": 3,
   "id": "5d84103d-bc6d-4552-bdb0-abd8cd9b60c7",
   "metadata": {},
   "outputs": [],
   "source": [
    "parent_script_dir: str = os.path.dirname(os.getcwd())\n",
    "config_path: str = os.path.join(parent_script_dir, 'config.json')\n",
    "config: dict[str, any] = DataLoading.load_config(config_path)\n",
    "\n",
    "(intents, trained_nlp, contractions, preprocessing_functions, job_queue_vectorizer, job_queue_label_encoder, job_queue_model) = load_data(config, parent_script_dir)"
   ]
  },
  {
   "cell_type": "markdown",
   "id": "a9bbe506-bfcf-490d-81eb-67244fc3a327",
   "metadata": {},
   "source": [
    "### Utterance Preprocessing"
   ]
  },
  {
   "cell_type": "code",
   "execution_count": 4,
   "id": "1d62b9f6-36ef-4bc1-b8f5-8d4fda1a3cd2",
   "metadata": {},
   "outputs": [],
   "source": [
    "tf.random.set_seed(42)\n",
    "vectorizer: TextVectorization = TextVectorization.from_config(job_queue_vectorizer[\"config\"])\n",
    "vectorizer.set_weights(job_queue_vectorizer[\"weights\"])"
   ]
  },
  {
   "cell_type": "code",
   "execution_count": 5,
   "id": "1efc8422-b5e2-4b30-8a6c-5b54204e309d",
   "metadata": {
    "scrolled": true
   },
   "outputs": [
    {
     "data": {
      "text/plain": [
       "'e mal Adresse -- entitätsemail -- ungültig'"
      ]
     },
     "execution_count": 5,
     "metadata": {},
     "output_type": "execute_result"
    }
   ],
   "source": [
    "helper = Helper()\n",
    "job_queue_error: str = \"Die E-Mail-Adresse 'test.bobl@axians-infoma.com' ist ungültig.\"\n",
    "\n",
    "preprocessed_job_queue_error: str = helper.process_job_queue_error(job_queue_error, trained_nlp, \n",
    "                                                              preprocessing_functions, contractions, config)\n",
    "preprocessed_job_queue_error"
   ]
  },
  {
   "cell_type": "markdown",
   "id": "209648aa-3aff-452b-818e-b730c4b7940c",
   "metadata": {},
   "source": [
    "### Model Prediction"
   ]
  },
  {
   "cell_type": "code",
   "execution_count": 6,
   "id": "e7af2a6a-883f-4ab7-a0bf-3d4cfbbabe3a",
   "metadata": {},
   "outputs": [
    {
     "name": "stdout",
     "output_type": "stream",
     "text": [
      "1/1 [==============================] - 0s 111ms/step\n",
      "[[0.         0.         0.         0.         0.         0.\n",
      "  0.         0.         0.00000001 0.         0.         0.\n",
      "  0.00001021 0.0000053  0.         0.         0.         0.\n",
      "  0.         0.         0.         0.00000159 0.         0.\n",
      "  0.         0.         0.         0.         0.00006058 0.\n",
      "  0.99992    0.         0.         0.00000234 0.         0.        ]]\n",
      "Diese Fehlermeldung tritt auf, wenn eine E-Mail-Adresse ungültig ist. Eine gültige E-Mail-Adresse ist nicht leer und enthält nur ASCII-Zeichen.\n",
      " Um die Fehlermeldung zu beheben, stellen Sie sicher, das keine E-Mail-Adresse eines der folgenden Zeichen enthält: ß, ä, ö, ü, Ä, Ö, Ü.\n",
      "0.99992\n"
     ]
    }
   ],
   "source": [
    "helper.calculate_prediction(preprocessed_job_queue_error, intents, \n",
    "                            vectorizer, job_queue_label_encoder, job_queue_model)\n",
    "\n",
    "print(helper.prediction_array)\n",
    "print(helper.prediction)\n",
    "print(helper.confidence)"
   ]
  },
  {
   "cell_type": "code",
   "execution_count": null,
   "id": "195a40ac-3d9f-4ec2-b40b-30c94553ee14",
   "metadata": {},
   "outputs": [],
   "source": []
  }
 ],
 "metadata": {
  "kernelspec": {
   "display_name": "Python 3 (ipykernel)",
   "language": "python",
   "name": "python3"
  },
  "language_info": {
   "codemirror_mode": {
    "name": "ipython",
    "version": 3
   },
   "file_extension": ".py",
   "mimetype": "text/x-python",
   "name": "python",
   "nbconvert_exporter": "python",
   "pygments_lexer": "ipython3",
   "version": "3.11.4"
  }
 },
 "nbformat": 4,
 "nbformat_minor": 5
}
